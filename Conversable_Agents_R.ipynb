{
  "cells": [
    {
      "cell_type": "markdown",
      "id": "c76d42fd-5b2b-4957-ae72-d32fd6d5efb4",
      "metadata": {
        "id": "c76d42fd-5b2b-4957-ae72-d32fd6d5efb4"
      },
      "source": [
        "# Conversable Agents for EdTech Marketing Strategy"
      ]
    },
    {
      "cell_type": "markdown",
      "id": "f77a9503-714f-41bd-b6e7-067fc82b1c26",
      "metadata": {
        "id": "f77a9503-714f-41bd-b6e7-067fc82b1c26"
      },
      "source": [
        "## Problem Statement\n",
        "- You are the Chief Marketing Officer of an Ed.Tech company that sells Project Management courses.\n",
        "- Create an agent which will help in creating strategies for promotion of your Project Management."
      ]
    },
    {
      "cell_type": "code",
      "execution_count": 1,
      "id": "5e590f7a",
      "metadata": {
        "colab": {
          "base_uri": "https://localhost:8080/"
        },
        "id": "5e590f7a",
        "outputId": "d1e6ec51-fffa-4d5d-d122-3e1c17cb1fd7"
      },
      "outputs": [
        {
          "output_type": "stream",
          "name": "stdout",
          "text": [
            "Collecting autogen\n",
            "  Downloading autogen-0.8.7-py3-none-any.whl.metadata (24 kB)\n",
            "Collecting pyautogen==0.8.7 (from autogen)\n",
            "  Downloading pyautogen-0.8.7-py3-none-any.whl.metadata (35 kB)\n",
            "Requirement already satisfied: anyio<5.0.0,>=3.0.0 in /usr/local/lib/python3.11/dist-packages (from pyautogen==0.8.7->autogen) (4.9.0)\n",
            "Collecting asyncer==0.0.8 (from pyautogen==0.8.7->autogen)\n",
            "  Downloading asyncer-0.0.8-py3-none-any.whl.metadata (6.7 kB)\n",
            "Collecting diskcache (from pyautogen==0.8.7->autogen)\n",
            "  Downloading diskcache-5.6.3-py3-none-any.whl.metadata (20 kB)\n",
            "Collecting docker (from pyautogen==0.8.7->autogen)\n",
            "  Downloading docker-7.1.0-py3-none-any.whl.metadata (3.8 kB)\n",
            "Requirement already satisfied: httpx<1,>=0.28.1 in /usr/local/lib/python3.11/dist-packages (from pyautogen==0.8.7->autogen) (0.28.1)\n",
            "Requirement already satisfied: packaging in /usr/local/lib/python3.11/dist-packages (from pyautogen==0.8.7->autogen) (24.2)\n",
            "Requirement already satisfied: pydantic<3,>=2.6.1 in /usr/local/lib/python3.11/dist-packages (from pyautogen==0.8.7->autogen) (2.11.3)\n",
            "Collecting python-dotenv (from pyautogen==0.8.7->autogen)\n",
            "  Downloading python_dotenv-1.1.0-py3-none-any.whl.metadata (24 kB)\n",
            "Requirement already satisfied: termcolor in /usr/local/lib/python3.11/dist-packages (from pyautogen==0.8.7->autogen) (3.0.1)\n",
            "Collecting tiktoken (from pyautogen==0.8.7->autogen)\n",
            "  Downloading tiktoken-0.9.0-cp311-cp311-manylinux_2_17_x86_64.manylinux2014_x86_64.whl.metadata (6.7 kB)\n",
            "Requirement already satisfied: idna>=2.8 in /usr/local/lib/python3.11/dist-packages (from anyio<5.0.0,>=3.0.0->pyautogen==0.8.7->autogen) (3.10)\n",
            "Requirement already satisfied: sniffio>=1.1 in /usr/local/lib/python3.11/dist-packages (from anyio<5.0.0,>=3.0.0->pyautogen==0.8.7->autogen) (1.3.1)\n",
            "Requirement already satisfied: typing_extensions>=4.5 in /usr/local/lib/python3.11/dist-packages (from anyio<5.0.0,>=3.0.0->pyautogen==0.8.7->autogen) (4.13.2)\n",
            "Requirement already satisfied: certifi in /usr/local/lib/python3.11/dist-packages (from httpx<1,>=0.28.1->pyautogen==0.8.7->autogen) (2025.1.31)\n",
            "Requirement already satisfied: httpcore==1.* in /usr/local/lib/python3.11/dist-packages (from httpx<1,>=0.28.1->pyautogen==0.8.7->autogen) (1.0.8)\n",
            "Requirement already satisfied: h11<0.15,>=0.13 in /usr/local/lib/python3.11/dist-packages (from httpcore==1.*->httpx<1,>=0.28.1->pyautogen==0.8.7->autogen) (0.14.0)\n",
            "Requirement already satisfied: annotated-types>=0.6.0 in /usr/local/lib/python3.11/dist-packages (from pydantic<3,>=2.6.1->pyautogen==0.8.7->autogen) (0.7.0)\n",
            "Requirement already satisfied: pydantic-core==2.33.1 in /usr/local/lib/python3.11/dist-packages (from pydantic<3,>=2.6.1->pyautogen==0.8.7->autogen) (2.33.1)\n",
            "Requirement already satisfied: typing-inspection>=0.4.0 in /usr/local/lib/python3.11/dist-packages (from pydantic<3,>=2.6.1->pyautogen==0.8.7->autogen) (0.4.0)\n",
            "Requirement already satisfied: requests>=2.26.0 in /usr/local/lib/python3.11/dist-packages (from docker->pyautogen==0.8.7->autogen) (2.32.3)\n",
            "Requirement already satisfied: urllib3>=1.26.0 in /usr/local/lib/python3.11/dist-packages (from docker->pyautogen==0.8.7->autogen) (2.3.0)\n",
            "Requirement already satisfied: regex>=2022.1.18 in /usr/local/lib/python3.11/dist-packages (from tiktoken->pyautogen==0.8.7->autogen) (2024.11.6)\n",
            "Requirement already satisfied: charset-normalizer<4,>=2 in /usr/local/lib/python3.11/dist-packages (from requests>=2.26.0->docker->pyautogen==0.8.7->autogen) (3.4.1)\n",
            "Downloading autogen-0.8.7-py3-none-any.whl (13 kB)\n",
            "Downloading pyautogen-0.8.7-py3-none-any.whl (739 kB)\n",
            "\u001b[2K   \u001b[90m━━━━━━━━━━━━━━━━━━━━━━━━━━━━━━━━━━━━━━━━\u001b[0m \u001b[32m739.3/739.3 kB\u001b[0m \u001b[31m32.5 MB/s\u001b[0m eta \u001b[36m0:00:00\u001b[0m\n",
            "\u001b[?25hDownloading asyncer-0.0.8-py3-none-any.whl (9.2 kB)\n",
            "Downloading diskcache-5.6.3-py3-none-any.whl (45 kB)\n",
            "\u001b[2K   \u001b[90m━━━━━━━━━━━━━━━━━━━━━━━━━━━━━━━━━━━━━━━━\u001b[0m \u001b[32m45.5/45.5 kB\u001b[0m \u001b[31m4.8 MB/s\u001b[0m eta \u001b[36m0:00:00\u001b[0m\n",
            "\u001b[?25hDownloading docker-7.1.0-py3-none-any.whl (147 kB)\n",
            "\u001b[2K   \u001b[90m━━━━━━━━━━━━━━━━━━━━━━━━━━━━━━━━━━━━━━━━\u001b[0m \u001b[32m147.8/147.8 kB\u001b[0m \u001b[31m16.3 MB/s\u001b[0m eta \u001b[36m0:00:00\u001b[0m\n",
            "\u001b[?25hDownloading python_dotenv-1.1.0-py3-none-any.whl (20 kB)\n",
            "Downloading tiktoken-0.9.0-cp311-cp311-manylinux_2_17_x86_64.manylinux2014_x86_64.whl (1.2 MB)\n",
            "\u001b[2K   \u001b[90m━━━━━━━━━━━━━━━━━━━━━━━━━━━━━━━━━━━━━━━━\u001b[0m \u001b[32m1.2/1.2 MB\u001b[0m \u001b[31m62.0 MB/s\u001b[0m eta \u001b[36m0:00:00\u001b[0m\n",
            "\u001b[?25hInstalling collected packages: python-dotenv, diskcache, tiktoken, docker, asyncer, pyautogen, autogen\n",
            "Successfully installed asyncer-0.0.8 autogen-0.8.7 diskcache-5.6.3 docker-7.1.0 pyautogen-0.8.7 python-dotenv-1.1.0 tiktoken-0.9.0\n"
          ]
        }
      ],
      "source": [
        "!pip install autogen"
      ]
    },
    {
      "cell_type": "markdown",
      "id": "cb5d5e5b",
      "metadata": {
        "id": "cb5d5e5b"
      },
      "source": [
        "![image.png](attachment:image.png)"
      ]
    },
    {
      "cell_type": "markdown",
      "id": "98400ba4",
      "metadata": {
        "id": "98400ba4"
      },
      "source": [
        "![image.png](attachment:image.png)"
      ]
    },
    {
      "cell_type": "markdown",
      "id": "1e0ab3e7",
      "metadata": {
        "id": "1e0ab3e7"
      },
      "source": []
    },
    {
      "cell_type": "code",
      "execution_count": 2,
      "id": "a09ccf7e-0cb6-4fb6-9a71-f50fbb5db328",
      "metadata": {
        "id": "a09ccf7e-0cb6-4fb6-9a71-f50fbb5db328"
      },
      "outputs": [],
      "source": [
        "# import libraries\n",
        "import autogen\n",
        "from autogen import ConversableAgent\n",
        "from IPython.display import display, Markdown"
      ]
    },
    {
      "cell_type": "code",
      "execution_count": 3,
      "id": "5a6488f0-881f-4ac0-be67-ad6c1b72ba35",
      "metadata": {
        "colab": {
          "base_uri": "https://localhost:8080/"
        },
        "id": "5a6488f0-881f-4ac0-be67-ad6c1b72ba35",
        "outputId": "e0712207-1de7-4488-c225-78264b49472b"
      },
      "outputs": [
        {
          "output_type": "execute_result",
          "data": {
            "text/plain": [
              "False"
            ]
          },
          "metadata": {},
          "execution_count": 3
        }
      ],
      "source": [
        "# reading LLM's API key\n",
        "from dotenv import load_dotenv\n",
        "load_dotenv('/content/.env')"
      ]
    },
    {
      "cell_type": "code",
      "execution_count": 4,
      "id": "39849992-b3bd-4f74-8ccb-3ace9b966d43",
      "metadata": {
        "id": "39849992-b3bd-4f74-8ccb-3ace9b966d43"
      },
      "outputs": [],
      "source": [
        "# Setting GPT's configuration\n",
        "config_list_gpt = {\n",
        "    \"config_list\": [{\"model\": \"gpt-4o-mini\", \"temperature\": 0}],\n",
        "}"
      ]
    },
    {
      "cell_type": "markdown",
      "id": "053f56f3-35c3-40c7-96c1-a2d681269417",
      "metadata": {
        "id": "053f56f3-35c3-40c7-96c1-a2d681269417"
      },
      "source": [
        "Now, we will create our first agent. Let's understasnd the parameters of the coversable agent:\n",
        "\n",
        "- Name is identifier for the agent.\n",
        "- The system_message is the predefined role for the agent.\n",
        "- The llm_config describes the settings of the LLM it will use.\n",
        "- The code_execution_config determines whether the agent can run code or not.\n",
        "- And finally, the human_input_mode specifies if the user need to give extra information to the agent in a chat like interface. Three possible values - \"NEVER\", \"ALWAYS\", and \"TERMINATE\" options with appropriate use-cases."
      ]
    },
    {
      "cell_type": "code",
      "execution_count": 5,
      "id": "f18122bf-7857-41f9-8c29-23eeb6ef0009",
      "metadata": {
        "id": "f18122bf-7857-41f9-8c29-23eeb6ef0009"
      },
      "outputs": [],
      "source": [
        "# define your first agent\n",
        "\n",
        "import os\n",
        "os.environ['OPENAI_API_KEY'] = 'sk-J*************************************************************2sA'\n",
        "\n",
        "import openai\n",
        "openai.api_key = \"sk**********************************************************sA\"\n",
        "\n",
        "config_list_gpt = {\n",
        "    \"config_list\": [{\"model\": \"gpt-4o-mini\"}],\n",
        "    \"temperature\": 0  # Move temperature outside the config_list\n",
        "}\n",
        "\n",
        "\n",
        "#agent_mkt_str = ConversableAgent(\n",
        "\n",
        " #   name=\"Marketing Strategist\",\n",
        "  #  system_message=\"\"\"You are an expert marketing strategist for both B2B and B2C side of a business.\n",
        "   #                   Your expertise lies in creating strategies for companies and products in the Edu.Tech. industry.\"\"\",\n",
        "    # llm_config=config_list_gpt,\n",
        "    # code_execution_config=False,\n",
        "   # human_input_mode=\"NEVER\",\n",
        "#)\n",
        "#\"\"\""
      ]
    },
    {
      "cell_type": "code",
      "execution_count": 6,
      "id": "829b8191-b76e-4f1b-9e95-a6a8a1be4ffb",
      "metadata": {
        "colab": {
          "base_uri": "https://localhost:8080/"
        },
        "id": "829b8191-b76e-4f1b-9e95-a6a8a1be4ffb",
        "outputId": "eadfb49b-f755-4d38-8dbe-c846e22b05ed"
      },
      "outputs": [
        {
          "output_type": "stream",
          "name": "stdout",
          "text": [
            "Collecting ag2[openai]\n",
            "  Downloading ag2-0.8.7-py3-none-any.whl.metadata (24 kB)\n",
            "Requirement already satisfied: pyautogen==0.8.7 in /usr/local/lib/python3.11/dist-packages (from ag2[openai]) (0.8.7)\n",
            "Requirement already satisfied: anyio<5.0.0,>=3.0.0 in /usr/local/lib/python3.11/dist-packages (from pyautogen==0.8.7->ag2[openai]) (4.9.0)\n",
            "Requirement already satisfied: asyncer==0.0.8 in /usr/local/lib/python3.11/dist-packages (from pyautogen==0.8.7->ag2[openai]) (0.0.8)\n",
            "Requirement already satisfied: diskcache in /usr/local/lib/python3.11/dist-packages (from pyautogen==0.8.7->ag2[openai]) (5.6.3)\n",
            "Requirement already satisfied: docker in /usr/local/lib/python3.11/dist-packages (from pyautogen==0.8.7->ag2[openai]) (7.1.0)\n",
            "Requirement already satisfied: httpx<1,>=0.28.1 in /usr/local/lib/python3.11/dist-packages (from pyautogen==0.8.7->ag2[openai]) (0.28.1)\n",
            "Requirement already satisfied: packaging in /usr/local/lib/python3.11/dist-packages (from pyautogen==0.8.7->ag2[openai]) (24.2)\n",
            "Requirement already satisfied: pydantic<3,>=2.6.1 in /usr/local/lib/python3.11/dist-packages (from pyautogen==0.8.7->ag2[openai]) (2.11.3)\n",
            "Requirement already satisfied: python-dotenv in /usr/local/lib/python3.11/dist-packages (from pyautogen==0.8.7->ag2[openai]) (1.1.0)\n",
            "Requirement already satisfied: termcolor in /usr/local/lib/python3.11/dist-packages (from pyautogen==0.8.7->ag2[openai]) (3.0.1)\n",
            "Requirement already satisfied: tiktoken in /usr/local/lib/python3.11/dist-packages (from pyautogen==0.8.7->ag2[openai]) (0.9.0)\n",
            "Requirement already satisfied: openai>=1.66.2 in /usr/local/lib/python3.11/dist-packages (from pyautogen[openai]==0.8.7; extra == \"openai\"->ag2[openai]) (1.75.0)\n",
            "Requirement already satisfied: idna>=2.8 in /usr/local/lib/python3.11/dist-packages (from anyio<5.0.0,>=3.0.0->pyautogen==0.8.7->ag2[openai]) (3.10)\n",
            "Requirement already satisfied: sniffio>=1.1 in /usr/local/lib/python3.11/dist-packages (from anyio<5.0.0,>=3.0.0->pyautogen==0.8.7->ag2[openai]) (1.3.1)\n",
            "Requirement already satisfied: typing_extensions>=4.5 in /usr/local/lib/python3.11/dist-packages (from anyio<5.0.0,>=3.0.0->pyautogen==0.8.7->ag2[openai]) (4.13.2)\n",
            "Requirement already satisfied: certifi in /usr/local/lib/python3.11/dist-packages (from httpx<1,>=0.28.1->pyautogen==0.8.7->ag2[openai]) (2025.1.31)\n",
            "Requirement already satisfied: httpcore==1.* in /usr/local/lib/python3.11/dist-packages (from httpx<1,>=0.28.1->pyautogen==0.8.7->ag2[openai]) (1.0.8)\n",
            "Requirement already satisfied: h11<0.15,>=0.13 in /usr/local/lib/python3.11/dist-packages (from httpcore==1.*->httpx<1,>=0.28.1->pyautogen==0.8.7->ag2[openai]) (0.14.0)\n",
            "Requirement already satisfied: distro<2,>=1.7.0 in /usr/local/lib/python3.11/dist-packages (from openai>=1.66.2->pyautogen[openai]==0.8.7; extra == \"openai\"->ag2[openai]) (1.9.0)\n",
            "Requirement already satisfied: jiter<1,>=0.4.0 in /usr/local/lib/python3.11/dist-packages (from openai>=1.66.2->pyautogen[openai]==0.8.7; extra == \"openai\"->ag2[openai]) (0.9.0)\n",
            "Requirement already satisfied: tqdm>4 in /usr/local/lib/python3.11/dist-packages (from openai>=1.66.2->pyautogen[openai]==0.8.7; extra == \"openai\"->ag2[openai]) (4.67.1)\n",
            "Requirement already satisfied: annotated-types>=0.6.0 in /usr/local/lib/python3.11/dist-packages (from pydantic<3,>=2.6.1->pyautogen==0.8.7->ag2[openai]) (0.7.0)\n",
            "Requirement already satisfied: pydantic-core==2.33.1 in /usr/local/lib/python3.11/dist-packages (from pydantic<3,>=2.6.1->pyautogen==0.8.7->ag2[openai]) (2.33.1)\n",
            "Requirement already satisfied: typing-inspection>=0.4.0 in /usr/local/lib/python3.11/dist-packages (from pydantic<3,>=2.6.1->pyautogen==0.8.7->ag2[openai]) (0.4.0)\n",
            "Requirement already satisfied: requests>=2.26.0 in /usr/local/lib/python3.11/dist-packages (from docker->pyautogen==0.8.7->ag2[openai]) (2.32.3)\n",
            "Requirement already satisfied: urllib3>=1.26.0 in /usr/local/lib/python3.11/dist-packages (from docker->pyautogen==0.8.7->ag2[openai]) (2.3.0)\n",
            "Requirement already satisfied: regex>=2022.1.18 in /usr/local/lib/python3.11/dist-packages (from tiktoken->pyautogen==0.8.7->ag2[openai]) (2024.11.6)\n",
            "Requirement already satisfied: charset-normalizer<4,>=2 in /usr/local/lib/python3.11/dist-packages (from requests>=2.26.0->docker->pyautogen==0.8.7->ag2[openai]) (3.4.1)\n",
            "Downloading ag2-0.8.7-py3-none-any.whl (13 kB)\n",
            "Installing collected packages: ag2\n",
            "Successfully installed ag2-0.8.7\n"
          ]
        }
      ],
      "source": [
        "!pip install ag2[openai]"
      ]
    },
    {
      "cell_type": "code",
      "execution_count": 7,
      "id": "af3bf7c9-5ba2-4906-99c9-7ad439c51a20",
      "metadata": {
        "id": "af3bf7c9-5ba2-4906-99c9-7ad439c51a20"
      },
      "outputs": [],
      "source": [
        "# !pip install openai==1.66.2"
      ]
    },
    {
      "cell_type": "code",
      "execution_count": 8,
      "id": "2DgqBxOLLcBD",
      "metadata": {
        "id": "2DgqBxOLLcBD"
      },
      "outputs": [],
      "source": [
        "agent_mkt_str = ConversableAgent(\n",
        "    name=\"Marketing_Strategist\",  # Replace space with underscore or any other valid character\n",
        "    system_message=\"\"\"You are an expert marketing strategist for both B2B and B2C side of a business.\n",
        "                      Your expertise lies in creating strategies for companies and products in the Edu.Tech. industry.\"\"\",\n",
        "    llm_config=config_list_gpt,\n",
        "    code_execution_config=False,\n",
        "    human_input_mode=\"NEVER\",\n",
        ")"
      ]
    },
    {
      "cell_type": "code",
      "execution_count": 11,
      "id": "fe84ae40-3595-4d93-97d5-d5f134ec15ef",
      "metadata": {
        "id": "fe84ae40-3595-4d93-97d5-d5f134ec15ef"
      },
      "outputs": [],
      "source": [
        "# define the task for the agent\n",
        "content = \"\"\"I want some solid marketing strategies for B2B promotions for my\n",
        "Project Management courses.\n",
        "\"\"\""
      ]
    },
    {
      "cell_type": "code",
      "execution_count": 12,
      "id": "cf795d1b-49e8-4971-b6a7-81f55b832684",
      "metadata": {
        "id": "cf795d1b-49e8-4971-b6a7-81f55b832684"
      },
      "outputs": [],
      "source": [
        "reply = agent_mkt_str.generate_reply(messages=[{\"content\": content, \"role\": \"user\"}])"
      ]
    },
    {
      "cell_type": "code",
      "execution_count": 13,
      "id": "d5cb1f08-e9c9-4871-9818-3978f7fdc574",
      "metadata": {
        "colab": {
          "base_uri": "https://localhost:8080/",
          "height": 1000
        },
        "id": "d5cb1f08-e9c9-4871-9818-3978f7fdc574",
        "outputId": "426dd368-6eff-4f71-f390-104b37211fa1"
      },
      "outputs": [
        {
          "output_type": "display_data",
          "data": {
            "text/plain": [
              "<IPython.core.display.Markdown object>"
            ],
            "text/markdown": "Certainly! Promoting Project Management courses in a B2B context requires a strategic approach that resonates with organizations looking to enhance their teams' skills. Here are some solid marketing strategies tailored for your Project Management courses:\n\n### 1. **Targeted Content Marketing**\n   - **Whitepapers and E-books**: Create in-depth resources on project management trends, best practices, and case studies. Offer these as downloadable content in exchange for contact information.\n   - **Blog Posts**: Regularly publish articles that address common challenges in project management, showcasing how your courses can provide solutions.\n   - **Webinars and Live Demos**: Host free webinars that cover specific project management topics, providing a taste of what your courses offer. Use these sessions to engage with potential clients and answer their questions.\n\n### 2. **Partnerships and Collaborations**\n   - **Corporate Partnerships**: Collaborate with companies to offer exclusive training packages for their employees. This could include discounts or tailored courses.\n   - **Industry Associations**: Partner with industry associations to promote your courses to their members. This can enhance credibility and reach a targeted audience.\n\n### 3. **Email Marketing Campaigns**\n   - **Segmented Lists**: Create segmented email lists based on industry, company size, or previous engagement. Tailor your messaging to address the specific needs of each segment.\n   - **Nurture Campaigns**: Develop a series of emails that educate potential clients about the benefits of project management training and how your courses can help them achieve their goals.\n\n### 4. **Social Media Engagement**\n   - **LinkedIn Marketing**: Utilize LinkedIn to connect with decision-makers in companies. Share valuable content, engage in relevant groups, and run targeted ads to promote your courses.\n   - **Success Stories**: Share testimonials and case studies from companies that have benefited from your courses. Highlight measurable outcomes, such as improved project delivery times or increased team efficiency.\n\n### 5. **Corporate Training Packages**\n   - **Customizable Training Solutions**: Offer tailored training packages that can be customized to meet the specific needs of organizations. This could include on-site training, online courses, or hybrid models.\n   - **Certification Programs**: Develop certification programs that provide added value to companies looking to enhance their employees' credentials.\n\n### 6. **Referral Programs**\n   - **Incentivize Referrals**: Create a referral program that rewards existing clients for referring new businesses. This could be in the form of discounts, free courses, or other incentives.\n\n### 7. **Search Engine Optimization (SEO)**\n   - **Keyword Optimization**: Optimize your website and content for keywords related to project management training. This will help improve your visibility in search engine results.\n   - **Local SEO**: If you offer in-person training, optimize for local searches to attract businesses in your area.\n\n### 8. **Paid Advertising**\n   - **PPC Campaigns**: Use Google Ads to target businesses searching for project management training. Focus on keywords that indicate intent, such as \"corporate project management training.\"\n   - **Retargeting Ads**: Implement retargeting campaigns to reach visitors who have shown interest in your courses but did not convert.\n\n### 9. **Networking and Events**\n   - **Industry Conferences**: Attend and sponsor industry conferences and trade shows. This provides an opportunity to showcase your courses and network with potential clients.\n   - **Local Business Events**: Participate in local business networking events to connect with decision-makers in your community.\n\n### 10. **Feedback and Continuous Improvement**\n   - **Surveys and Feedback**: After course completion, gather feedback from participants to improve your offerings. Use positive testimonials in your marketing materials.\n   - **Adapt to Market Needs**: Stay updated on industry trends and adapt your courses accordingly to ensure they remain relevant and valuable.\n\nBy implementing these strategies, you can effectively promote your Project Management courses to businesses, helping them recognize the value of investing in their employees' professional development."
          },
          "metadata": {}
        }
      ],
      "source": [
        "display(Markdown(reply))"
      ]
    },
    {
      "cell_type": "code",
      "execution_count": 14,
      "id": "bc08f344-75af-4e96-89b2-c9c9a774edf3",
      "metadata": {
        "colab": {
          "base_uri": "https://localhost:8080/"
        },
        "id": "bc08f344-75af-4e96-89b2-c9c9a774edf3",
        "outputId": "f315ef0d-bcd8-4a45-df54-59942ed651dc",
        "scrolled": true
      },
      "outputs": [
        {
          "output_type": "stream",
          "name": "stdout",
          "text": [
            "----------------------------------------------------------------------------------------------------\n",
            "Usage summary excluding cached usage: \n",
            "Total cost: 0.00104\n",
            "* Model 'gpt-4o-mini-2024-07-18': cost: 0.00104, prompt_tokens: 134, completion_tokens: 1696, total_tokens: 1830\n",
            "\n",
            "All completions are non-cached: the total cost with cached completions is the same as actual cost.\n",
            "----------------------------------------------------------------------------------------------------\n"
          ]
        }
      ],
      "source": [
        "agent_mkt_str.client.print_usage_summary()"
      ]
    },
    {
      "cell_type": "markdown",
      "id": "cd404e2d-dd41-48ca-8dca-41c4b7e12b88",
      "metadata": {
        "id": "cd404e2d-dd41-48ca-8dca-41c4b7e12b88"
      },
      "source": [
        "## Problem Statement"
      ]
    },
    {
      "cell_type": "markdown",
      "id": "43872a56-9ae8-4bd0-9a53-adb80a5914b7",
      "metadata": {
        "id": "43872a56-9ae8-4bd0-9a53-adb80a5914b7"
      },
      "source": [
        "- You are the Chief Marketing Officer (CMO) of an EdTech company specializing in Project Management courses.\n",
        "- CEO wants to focus on B2C while you (CMO) wants to focus on B2B.\n",
        "- Simulate a conversation between the CEO and CMO"
      ]
    },
    {
      "cell_type": "markdown",
      "id": "a0dd2601-8327-4ffb-b816-99367116899e",
      "metadata": {
        "id": "a0dd2601-8327-4ffb-b816-99367116899e"
      },
      "source": [
        "# Discussion"
      ]
    },
    {
      "cell_type": "code",
      "execution_count": 15,
      "id": "590876b6-ab95-4ee0-968f-ee3744d5aefc",
      "metadata": {
        "id": "590876b6-ab95-4ee0-968f-ee3744d5aefc"
      },
      "outputs": [],
      "source": [
        "CMO_Agent = ConversableAgent(\n",
        "    name=\"CMO\",\n",
        "    system_message=\"\"\"You are a Cheif Marketing Officer in an Edu.Tech. company. You are discussing with the CEO\n",
        "                    whether you should focus more on B2B or B2C for Project Management courses. As the CMO, you want to focus on B2B\"\"\",\n",
        "    llm_config=config_list_gpt,\n",
        "    code_execution_config=False,\n",
        "    human_input_mode=\"NEVER\",\n",
        ")"
      ]
    },
    {
      "cell_type": "code",
      "execution_count": 16,
      "id": "97a16589-1b35-497f-a25c-55c6e5d80ec1",
      "metadata": {
        "id": "97a16589-1b35-497f-a25c-55c6e5d80ec1"
      },
      "outputs": [],
      "source": [
        "CEO_Agent = ConversableAgent(\n",
        "    name=\"CEO\",\n",
        "    system_message=\"\"\"You are a Cheif Executive Officer in an EdTech. company. You are discussing with CMO\n",
        "                    whether you should focus more on B2B or B2C for Project Management courses. As the CEO, you want to focus on B2C\"\"\",\n",
        "    llm_config=config_list_gpt,\n",
        "    code_execution_config=False,\n",
        "    human_input_mode=\"NEVER\",\n",
        ")"
      ]
    },
    {
      "cell_type": "code",
      "execution_count": 17,
      "id": "79185455-8590-4654-a915-f3ebb45472de",
      "metadata": {
        "id": "79185455-8590-4654-a915-f3ebb45472de"
      },
      "outputs": [],
      "source": [
        "messages = [\"I think we should focus more on B2B business for our project management courses\"]"
      ]
    },
    {
      "cell_type": "markdown",
      "id": "4a4d751f-b1df-4844-a353-bb75c09d2262",
      "metadata": {
        "id": "4a4d751f-b1df-4844-a353-bb75c09d2262"
      },
      "source": [
        "- Receiver: The first message is sent to the CEO agent.\n",
        "- Message: Specifies the initial dialogue from sender to receiver.\n",
        "- Max Turns: Sets each agent’s communication limit, here set to 3 for broader coverage.\n",
        "- Silent: Controls visibility; set to False to display the conversation.\n",
        "- Summary Method: U\n",
        "\n"
      ]
    },
    {
      "cell_type": "code",
      "execution_count": 18,
      "id": "6c179518-8fb1-407d-b87a-09000ae9f252",
      "metadata": {
        "colab": {
          "base_uri": "https://localhost:8080/"
        },
        "id": "6c179518-8fb1-407d-b87a-09000ae9f252",
        "outputId": "6df18cd9-4a8f-430f-d954-db84922673ef",
        "scrolled": true
      },
      "outputs": [
        {
          "output_type": "stream",
          "name": "stdout",
          "text": [
            "CMO (to CEO):\n",
            "\n",
            "I think we should focus more on B2B business for our project management courses\n",
            "\n",
            "--------------------------------------------------------------------------------\n",
            "CEO (to CMO):\n",
            "\n",
            "As the CEO, I appreciate your perspective on focusing on B2B for our project management courses. However, I believe that a B2C approach could be more beneficial for us at this stage. Here are a few reasons why I think we should prioritize B2C:\n",
            "\n",
            "1. **Market Demand**: The demand for project management skills is growing among individuals looking to enhance their careers. Many professionals are seeking certifications and courses to improve their employability and skill sets. By focusing on B2C, we can tap into this expanding market.\n",
            "\n",
            "2. **Scalability**: B2C models often allow for quicker scalability. With online courses, we can reach a global audience without the constraints of corporate partnerships or lengthy sales cycles. This can lead to faster revenue growth.\n",
            "\n",
            "3. **Brand Loyalty**: Building a strong brand presence among individual learners can lead to long-term loyalty. Satisfied customers are likely to recommend our courses to their peers, creating a network effect that can drive organic growth.\n",
            "\n",
            "4. **Flexibility in Offerings**: In a B2C model, we have the flexibility to experiment with different course formats, pricing strategies, and marketing approaches. This agility can help us quickly adapt to market trends and learner preferences.\n",
            "\n",
            "5. **Direct Feedback**: Engaging directly with individual learners allows us to gather valuable feedback on our courses. This can help us continuously improve our offerings and better meet the needs of our audience.\n",
            "\n",
            "6. **Partnership Opportunities**: While we focus on B2C, we can still explore partnerships with organizations that want to offer our courses to their employees. This hybrid approach can help us leverage the benefits of both models without fully committing to B2B.\n",
            "\n",
            "I believe that by prioritizing B2C, we can establish a strong foundation for our project management courses and create a loyal customer base that will support our growth in the long run. What are your thoughts on these points?\n",
            "\n",
            "--------------------------------------------------------------------------------\n",
            "CMO (to CEO):\n",
            "\n",
            ":CMO:  \n",
            "I appreciate your insights and the rationale behind prioritizing B2C. However, I still believe that focusing on B2B for our project management courses presents a more strategic opportunity for several reasons:\n",
            "\n",
            "1. **Higher Revenue Potential**: B2B contracts often involve larger transactions compared to individual course sales. Corporations are willing to invest significantly in training their employees, which can lead to higher revenue per sale and more predictable cash flow.\n",
            "\n",
            "2. **Long-Term Partnerships**: By establishing relationships with businesses, we can create long-term partnerships that provide a steady stream of revenue. Companies often require ongoing training for their teams, which can lead to repeat business and upselling opportunities.\n",
            "\n",
            "3. **Customization and Tailored Solutions**: B2B allows us to offer customized training solutions that meet the specific needs of organizations. This can differentiate us from competitors and position us as a valuable partner in their development strategy.\n",
            "\n",
            "4. **Access to Larger Audiences**: When we partner with organizations, we gain access to their entire workforce, which can significantly increase our reach. A single corporate client can provide us with hundreds or even thousands of learners, which is much more efficient than acquiring individual customers.\n",
            "\n",
            "5. **Brand Credibility**: Working with established companies can enhance our brand credibility. If we can demonstrate that our courses are being used by reputable organizations, it can boost our reputation in the market and attract more individual learners as well.\n",
            "\n",
            "6. **Data-Driven Insights**: B2B relationships often provide us with valuable data on industry trends and skill gaps. This information can inform our course development and marketing strategies, ensuring that we are always aligned with market needs.\n",
            "\n",
            "7. **Corporate Training Trends**: The trend towards upskilling and reskilling in the corporate world is accelerating. Companies are increasingly investing in employee development, and project management skills are in high demand. By focusing on B2B, we can position ourselves at the forefront of this trend.\n",
            "\n",
            "While I understand the appeal of B2C, I believe that a B2B focus aligns better with our long-term growth strategy and allows us to leverage our strengths as an Edu.Tech company. I propose that we consider a phased approach, where we initially focus on B2B partnerships while also exploring B2C opportunities in a more limited capacity. This way, we can benefit from both models without fully committing to one over the other. What do you think?\n",
            "\n",
            "--------------------------------------------------------------------------------\n",
            "CEO (to CMO):\n",
            "\n",
            ":CEO:  \n",
            "Thank you for sharing your detailed insights on the B2B approach. I can see the merits of your arguments, especially regarding revenue potential and long-term partnerships. However, I still believe that a primary focus on B2C is the right path for us at this moment. Let me address some of your points and share my perspective on a phased approach.\n",
            "\n",
            "1. **Higher Revenue Potential**: While B2B contracts can yield higher revenue per transaction, the sales cycle can be lengthy and complex. In contrast, B2C allows us to generate revenue more quickly through direct sales. We can also implement tiered pricing and subscription models to maximize revenue from individual learners.\n",
            "\n",
            "2. **Long-Term Partnerships**: Establishing B2B partnerships is indeed valuable, but it often requires significant time and resources to cultivate these relationships. By focusing on B2C, we can build a strong brand presence and customer loyalty, which can later facilitate B2B opportunities as we gain recognition in the market.\n",
            "\n",
            "3. **Customization and Tailored Solutions**: While customization is a strong selling point for B2B, we can still offer personalized learning paths and flexible course options for B2C learners. This can enhance the learner experience and differentiate us in a crowded market.\n",
            "\n",
            "4. **Access to Larger Audiences**: I agree that B2B can provide access to larger audiences, but we shouldn't underestimate the power of digital marketing and social media in reaching individual learners. With the right marketing strategy, we can effectively scale our B2C efforts and reach a broad audience.\n",
            "\n",
            "5. **Brand Credibility**: Building brand credibility through B2B partnerships is important, but we can also establish credibility through testimonials, case studies, and success stories from individual learners. A strong community of satisfied customers can enhance our reputation just as effectively.\n",
            "\n",
            "6. **Data-Driven Insights**: While B2B relationships can provide valuable data, we can also gather insights from our B2C learners through surveys and feedback mechanisms. This will help us stay aligned with market needs and continuously improve our offerings.\n",
            "\n",
            "7. **Corporate Training Trends**: I acknowledge the growing trend of corporate training, but the B2C market is also evolving rapidly. Many individuals are taking charge of their own professional development, and we can capitalize on this trend by offering high-quality, accessible courses.\n",
            "\n",
            "I appreciate your suggestion of a phased approach, and I think it could be a viable compromise. However, I would propose that we prioritize B2C as our primary focus while keeping an eye on potential B2B partnerships as a secondary strategy. This way, we can build a strong foundation in the B2C space and explore B2B opportunities as they arise.\n",
            "\n",
            "Let's consider allocating resources to develop a robust B2C marketing strategy while also identifying potential B2B partners for future collaboration. This dual approach can help us maximize our growth potential without losing sight of our primary focus. What do you think about this adjusted strategy?\n",
            "\n",
            "--------------------------------------------------------------------------------\n",
            "CMO (to CEO):\n",
            "\n",
            ":CMO:  \n",
            "I appreciate your thoughtful response and the points you've raised regarding a B2C focus. Your perspective on the potential for quick revenue generation and the importance of building brand presence is well taken. However, I still believe that a primary focus on B2B, even in a phased approach, would yield more sustainable growth for our project management courses. \n",
            "\n",
            "That said, I see the value in your proposal for a dual approach, and I think we can find common ground. Here’s how we might structure this strategy to leverage the strengths of both B2B and B2C:\n",
            "\n",
            "1. **B2C as a Foundation**: We can start by developing a strong B2C marketing strategy to build brand awareness and attract individual learners. This will allow us to establish a customer base and generate initial revenue. We can implement tiered pricing and subscription models to maximize revenue from this segment.\n",
            "\n",
            "2. **B2B Exploration**: Simultaneously, we can allocate a smaller portion of our resources to identify and engage potential B2B partners. This could involve reaching out to organizations that align with our values and offering pilot programs or discounted rates for their employees. This way, we can test the waters in the B2B space without diverting too much focus from our primary B2C efforts.\n",
            "\n",
            "3. **Feedback Loop**: As we engage with both B2C learners and B2B partners, we can create a feedback loop that informs our course development. Insights from individual learners can help us refine our offerings, while feedback from corporate clients can guide us in tailoring solutions for their specific needs.\n",
            "\n",
            "4. **Brand Credibility through B2C Success**: We can leverage success stories and testimonials from our B2C learners to build credibility. As we grow our reputation in the B2C space, it will naturally enhance our appeal to potential B2B partners.\n",
            "\n",
            "5. **Marketing Synergies**: We can create marketing campaigns that highlight the benefits of our courses for both individual learners and organizations. For example, we can showcase how our courses can help individuals advance their careers while also emphasizing the value of upskilling employees for companies.\n",
            "\n",
            "6. **Monitoring Market Trends**: We should continuously monitor market trends in both B2B and B2C spaces. This will allow us to pivot our strategy as needed and capitalize on emerging opportunities in either segment.\n",
            "\n",
            "By adopting this dual approach, we can build a strong foundation in the B2C market while also laying the groundwork for future B2B partnerships. This strategy allows us to remain agile and responsive to market demands, ultimately positioning us for long-term success. \n",
            "\n",
            "What are your thoughts on this adjusted strategy? Would you be open to exploring this collaborative approach?\n",
            "\n",
            "--------------------------------------------------------------------------------\n",
            "CEO (to CMO):\n",
            "\n",
            ":CEO:  \n",
            "I appreciate your willingness to find common ground and your thoughtful proposal for a dual approach. I believe this strategy could effectively leverage the strengths of both B2B and B2C while allowing us to remain agile in a rapidly changing market. Here’s how I see this collaborative approach working:\n",
            "\n",
            "1. **B2C as a Foundation**: I completely agree that establishing a strong B2C presence is crucial. By focusing on building brand awareness and attracting individual learners, we can create a solid customer base that will provide us with valuable insights and revenue. Implementing tiered pricing and subscription models will also help us maximize our revenue potential in this segment.\n",
            "\n",
            "2. **B2B Exploration**: Your idea of allocating a smaller portion of resources to explore B2B partnerships is a smart move. By reaching out to organizations for pilot programs or discounted rates, we can test the waters without diverting too much focus from our primary B2C efforts. This will allow us to gauge interest and gather feedback from potential corporate clients.\n",
            "\n",
            "3. **Feedback Loop**: Establishing a feedback loop is essential for continuous improvement. By gathering insights from both B2C learners and B2B partners, we can refine our course offerings to better meet the needs of both segments. This will enhance our overall value proposition and strengthen our market position.\n",
            "\n",
            "4. **Brand Credibility through B2C Success**: I love the idea of leveraging success stories from our B2C learners to build credibility. As we establish a strong reputation in the B2C space, it will naturally enhance our appeal to potential B2B partners. This organic growth can be a powerful driver for future partnerships.\n",
            "\n",
            "5. **Marketing Synergies**: Creating marketing campaigns that highlight the benefits for both individual learners and organizations is a great way to maximize our reach. By showcasing how our courses can help individuals advance their careers while also emphasizing the value of upskilling employees, we can attract a diverse audience.\n",
            "\n",
            "6. **Monitoring Market Trends**: Continuous monitoring of market trends in both B2B and B2C spaces will be crucial for our success. This will allow us to remain agile and responsive to emerging opportunities, ensuring that we stay ahead of the competition.\n",
            "\n",
            "Overall, I am open to exploring this collaborative approach. I believe that by focusing on B2C as our primary strategy while simultaneously laying the groundwork for B2B partnerships, we can position ourselves for long-term success. Let’s outline a detailed plan for implementation, including timelines, resource allocation, and key performance indicators to measure our progress in both segments. \n",
            "\n",
            "I’m excited about the potential of this strategy and look forward to working together to make it a success!\n",
            "\n",
            "--------------------------------------------------------------------------------\n",
            "\n",
            ">>>>>>>> TERMINATING RUN (ac3ea3ac-57e2-4ea1-94df-516b93ea61ba): Maximum turns (3) reached\n"
          ]
        }
      ],
      "source": [
        "# initiate the conversation\n",
        "result = CMO_Agent.initiate_chat(CEO_Agent,\n",
        "                               message= messages[0],\n",
        "                               max_turns=3,\n",
        "                               silent=False,\n",
        "                               summary_method=\"reflection_with_llm\")"
      ]
    },
    {
      "cell_type": "code",
      "execution_count": 19,
      "id": "cffc5676-0b39-4316-bf85-d88800cbb856",
      "metadata": {
        "colab": {
          "base_uri": "https://localhost:8080/"
        },
        "id": "cffc5676-0b39-4316-bf85-d88800cbb856",
        "outputId": "f90b6522-01b7-465c-ca6a-d5a84b0fc864"
      },
      "outputs": [
        {
          "output_type": "execute_result",
          "data": {
            "text/plain": [
              "6"
            ]
          },
          "metadata": {},
          "execution_count": 19
        }
      ],
      "source": [
        "# print chat length\n",
        "len(result.chat_history)"
      ]
    },
    {
      "cell_type": "code",
      "execution_count": 20,
      "id": "369fb07e-17b4-45b6-87d0-edfb85da96ce",
      "metadata": {
        "colab": {
          "base_uri": "https://localhost:8080/"
        },
        "id": "369fb07e-17b4-45b6-87d0-edfb85da96ce",
        "outputId": "c7a45c58-9af7-4f96-8e1e-37467b163ac4",
        "scrolled": true
      },
      "outputs": [
        {
          "output_type": "execute_result",
          "data": {
            "text/plain": [
              "{'usage_including_cached_inference': {'total_cost': 0.00281265,\n",
              "  'gpt-4o-mini-2024-07-18': {'cost': 0.00281265,\n",
              "   'prompt_tokens': 7899,\n",
              "   'completion_tokens': 2713,\n",
              "   'total_tokens': 10612}},\n",
              " 'usage_excluding_cached_inference': {'total_cost': 0.00281265,\n",
              "  'gpt-4o-mini-2024-07-18': {'cost': 0.00281265,\n",
              "   'prompt_tokens': 7899,\n",
              "   'completion_tokens': 2713,\n",
              "   'total_tokens': 10612}}}"
            ]
          },
          "metadata": {},
          "execution_count": 20
        }
      ],
      "source": [
        "# print cost\n",
        "result.cost"
      ]
    },
    {
      "cell_type": "markdown",
      "id": "d2a71d46-673f-4027-9b03-3c79e563c353",
      "metadata": {
        "id": "d2a71d46-673f-4027-9b03-3c79e563c353"
      },
      "source": [
        "- **Cached Inference**: Refers to storing previous model responses for reuse with identical inputs.  \n",
        "- **Efficiency**: Retrieves pre-computed results from memory when encountering repeated prompts.  \n",
        "- **Benefits**:\n",
        "  - Reduces computation time.\n",
        "  - Lowers token usage.\n",
        "  - Minimizes costs of repeated runs on the same input.  \n",
        "- **Outcome**: Running this cell will produce the same results as obtained during the single agent chat.\n"
      ]
    },
    {
      "cell_type": "code",
      "execution_count": 21,
      "id": "ec0d0ca6-01f4-403f-a1a0-384b5fe09b97",
      "metadata": {
        "colab": {
          "base_uri": "https://localhost:8080/"
        },
        "id": "ec0d0ca6-01f4-403f-a1a0-384b5fe09b97",
        "outputId": "00645974-2adb-4003-9042-721e27272bcf"
      },
      "outputs": [
        {
          "output_type": "stream",
          "name": "stdout",
          "text": [
            "The conversation centered around the strategic focus for project management courses, with the CMO advocating for a B2B approach due to its higher revenue potential, long-term partnerships, and customization opportunities. The CEO initially favored a B2C focus for quicker revenue generation and brand building. Ultimately, they agreed on a dual approach: prioritizing B2C to establish a strong foundation while simultaneously exploring B2B partnerships on a smaller scale. They emphasized the importance of a feedback loop, leveraging B2C success for credibility, creating marketing synergies, and monitoring market trends to remain agile and responsive. A detailed implementation plan with timelines and performance indicators will be developed to guide this strategy.\n"
          ]
        }
      ],
      "source": [
        "print(result.summary)"
      ]
    },
    {
      "cell_type": "code",
      "execution_count": null,
      "id": "9f39fa64-361f-4966-8477-ff6bacebf709",
      "metadata": {
        "id": "9f39fa64-361f-4966-8477-ff6bacebf709"
      },
      "outputs": [],
      "source": []
    }
  ],
  "metadata": {
    "accelerator": "GPU",
    "colab": {
      "gpuType": "T4",
      "provenance": []
    },
    "kernelspec": {
      "display_name": "Python 3",
      "name": "python3"
    },
    "language_info": {
      "codemirror_mode": {
        "name": "ipython",
        "version": 3
      },
      "file_extension": ".py",
      "mimetype": "text/x-python",
      "name": "python",
      "nbconvert_exporter": "python",
      "pygments_lexer": "ipython3",
      "version": "3.12.7"
    }
  },
  "nbformat": 4,
  "nbformat_minor": 5
}